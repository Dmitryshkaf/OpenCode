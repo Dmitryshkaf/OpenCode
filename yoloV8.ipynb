{
 "cells": [
  {
   "cell_type": "markdown",
   "metadata": {},
   "source": [
    "# TASK №1\n"
   ]
  },
  {
   "cell_type": "code",
   "execution_count": 256,
   "metadata": {},
   "outputs": [],
   "source": [
    "from ultralytics import YOLO\n",
    "import cv2\n",
    "import numpy as np\n",
    "import os"
   ]
  },
  {
   "cell_type": "code",
   "execution_count": 257,
   "metadata": {},
   "outputs": [],
   "source": [
    "# Загрузка модели YOLOv8\n",
    "model = YOLO('yolov8n.pt')\n",
    "\n",
    "# Список цветов для различных классов\n",
    "colors = [\n",
    "    (255, 0, 0), (0, 255, 0), (0, 0, 255), (255, 255, 0), (0, 255, 255),\n",
    "    (255, 0, 255), (192, 192, 192), (128, 128, 128), (128, 0, 0), (128, 128, 0),\n",
    "    (0, 128, 0), (128, 0, 128), (0, 128, 128), (0, 0, 128), (72, 61, 139),\n",
    "    (47, 79, 79), (47, 79, 47), (0, 206, 209), (148, 0, 211), (255, 20, 147)\n",
    "]\n"
   ]
  },
  {
   "cell_type": "code",
   "execution_count": 258,
   "metadata": {},
   "outputs": [],
   "source": [
    "# Функция для обработки изображения\n",
    "def process_image(image_path):\n",
    "    # Загрузка изображения\n",
    "    image = cv2.imread(image_path)\n",
    "    results = model(image)[0]\n",
    "    \n",
    "    # Получение оригинального изображения и результатов\n",
    "    image = results.orig_img\n",
    "    classes_names = results.names\n",
    "    classes = results.boxes.cls.cpu().numpy()\n",
    "    boxes = results.boxes.xyxy.cpu().numpy().astype(np.int32)\n",
    "\n",
    "    # Подготовка словаря для группировки результатов по классам\n",
    "    grouped_objects = {}\n",
    "\n",
    "    # Рисование рамок и группировка результатов\n",
    "    for class_id, box in zip(classes, boxes):\n",
    "        if class_id==0:    \n",
    "            class_name = classes_names[int(class_id)]\n",
    "            color = colors[int(class_id) % len(colors)]  # Выбор цвета для класса\n",
    "            if class_name not in grouped_objects:\n",
    "                grouped_objects[class_name] = []\n",
    "            grouped_objects[class_name].append(box)\n",
    "\n",
    "            # Рисование рамок на изображении\n",
    "            x1, y1, x2, y2 = box\n",
    "            cv2.rectangle(image, (x1, y1), (x2, y2), color, 2)\n",
    "            cv2.putText(image, class_name, (x1, y1 - 10), cv2.FONT_HERSHEY_SIMPLEX, 0.5, color, 2)\n",
    "\n",
    "    # Сохранение измененного изображения\n",
    "    new_image_path = os.path.splitext(image_path)[0] + '_yolo' + os.path.splitext(image_path)[1]\n",
    "    cv2.imwrite(new_image_path, image)\n",
    "\n",
    "    # Сохранение данных в текстовый файл\n",
    "    text_file_path = os.path.splitext(image_path)[0] + '_data.txt'\n",
    "    with open(text_file_path, 'w') as f:\n",
    "        for class_name, details in grouped_objects.items():\n",
    "            f.write(f\"{class_name}:\\n\")\n",
    "            for detail in details:\n",
    "                f.write(f\"Coordinates: ({detail[0]}, {detail[1]}, {detail[2]}, {detail[3]})\\n\")\n",
    "\n",
    "    count_of_persons = len([el for el in classes if el == 0])\n",
    "    \n",
    "    print(f\"Count of persons: {count_of_persons}\")\n",
    "    print(f\"Processed {image_path}:\")\n",
    "    print(f\"Saved bounding-box image to {new_image_path}\")\n",
    "    print(f\"Saved data to {text_file_path}\")\n",
    "    return results"
   ]
  },
  {
   "cell_type": "code",
   "execution_count": 259,
   "metadata": {},
   "outputs": [
    {
     "name": "stdout",
     "output_type": "stream",
     "text": [
      "\n",
      "0: 384x640 7 persons, 1 motorcycle, 36.0ms\n",
      "Speed: 7.0ms preprocess, 36.0ms inference, 5.0ms postprocess per image at shape (1, 3, 384, 640)\n",
      "Count of persons: 7\n",
      "Processed data/720x.png:\n",
      "Saved bounding-box image to data/720x_yolo.png\n",
      "Saved data to data/720x_data.txt\n"
     ]
    }
   ],
   "source": [
    "\n",
    "res = process_image('data/720x.png')"
   ]
  },
  {
   "cell_type": "markdown",
   "metadata": {},
   "source": [
    "#  TASK №2"
   ]
  },
  {
   "cell_type": "code",
   "execution_count": 260,
   "metadata": {},
   "outputs": [],
   "source": [
    "# Функция для обработки изображения\n",
    "def process_image(image_path):\n",
    "    # Загрузка изображения\n",
    "    image = cv2.imread(image_path)\n",
    "    results = model(image)[0]\n",
    "    \n",
    "    # Получение оригинального изображения и результатов\n",
    "    image = results.orig_img\n",
    "    classes_names = results.names\n",
    "    classes = results.boxes.cls.cpu().numpy()\n",
    "    boxes = results.boxes.xyxy.cpu().numpy().astype(np.int32)\n",
    "\n",
    "    # Подготовка словаря для группировки результатов по классам\n",
    "    grouped_objects = {}\n",
    "\n",
    "    # Рисование рамок и группировка результатов\n",
    "    for class_id, box in zip(classes, boxes):\n",
    "        if class_id==0:    \n",
    "            class_name = classes_names[int(class_id)]\n",
    "            color = colors[int(class_id) % len(colors)]  # Выбор цвета для класса\n",
    "            if class_name not in grouped_objects:\n",
    "                grouped_objects[class_name] = []\n",
    "                \n",
    "            x1, y1, x2, y2 = box\n",
    "            center_x = (x1 + x2) // 2\n",
    "            center_y = (y1 + y2) // 2\n",
    "            grouped_objects[class_name].append((box, (center_x, center_y)))\n",
    "            \n",
    "            cv2.rectangle(image, (x1, y1), (x2, y2), color, 2)\n",
    "            cv2.putText(image, class_name, (x1, y1 - 10), cv2.FONT_HERSHEY_SIMPLEX, 0.5, color, 2)\n",
    "\n",
    "    # Сохранение измененного изображения\n",
    "    new_image_path = os.path.splitext(image_path)[0] + '_yolo' + os.path.splitext(image_path)[1]\n",
    "    cv2.imwrite(new_image_path, image)\n",
    "\n",
    "    # Сохранение данных в текстовый файл\n",
    "    text_file_path = os.path.splitext(image_path)[0] + '_data.txt'\n",
    "    with open(text_file_path, 'w') as f:\n",
    "        for class_name, details in grouped_objects.items():\n",
    "            f.write(f\"{class_name}:\\n\")\n",
    "            for box, center in details:\n",
    "                f.write(f\"Coordinates: ({box[0]}, {box[1]}, {box[2]}, {box[3]}) Center: ({center[0]}, {center[1]})\\n\")\n",
    "\n",
    "    count_of_persons = len([el for el in classes if el == 0])\n",
    "    \n",
    "    print(f\"Count of persons: {count_of_persons}\")\n",
    "    print(f\"Processed {image_path}:\")\n",
    "    print(f\"Saved bounding-box image to {new_image_path}\")\n",
    "    print(f\"Saved data to {text_file_path}\")\n",
    "    return results, grouped_objects"
   ]
  },
  {
   "cell_type": "code",
   "execution_count": 261,
   "metadata": {},
   "outputs": [
    {
     "name": "stdout",
     "output_type": "stream",
     "text": [
      "\n",
      "0: 384x640 7 persons, 1 motorcycle, 30.0ms\n",
      "Speed: 4.0ms preprocess, 30.0ms inference, 2.0ms postprocess per image at shape (1, 3, 384, 640)\n",
      "Count of persons: 7\n",
      "Processed data/720x.png:\n",
      "Saved bounding-box image to data/720x_yolo.png\n",
      "Saved data to data/720x_data.txt\n"
     ]
    }
   ],
   "source": [
    "\n",
    "res, objects = process_image('data/720x.png')"
   ]
  },
  {
   "cell_type": "code",
   "execution_count": 263,
   "metadata": {},
   "outputs": [
    {
     "name": "stdout",
     "output_type": "stream",
     "text": [
      "Матрица расстояний:\n",
      "[[          0      514.57      91.302      70.612      536.62      83.024      117.78]\n",
      " [     514.57           0      424.04      457.96      151.16      445.49      396.83]\n",
      " [     91.302      424.04           0      60.017      454.09      57.035       28.16]\n",
      " [     70.612      457.96      60.017           0      469.95      13.153      73.246]\n",
      " [     536.62      151.16      454.09      469.95           0      456.79      426.04]\n",
      " [     83.024      445.49      57.035      13.153      456.79           0      65.391]\n",
      " [     117.78      396.83       28.16      73.246      426.04      65.391           0]]\n"
     ]
    }
   ],
   "source": [
    "centers = np.array([objects['person'][el][1]  for el in range(len(objects['person']))])\n",
    "\n",
    "groups_of_persons= {}\n",
    "\n",
    "num_rectangles = centers.shape[0]\n",
    "distance_matrix = np.zeros((num_rectangles, num_rectangles))\n",
    "counter=-1\n",
    "for i in range(num_rectangles):\n",
    "    for j in range(num_rectangles):\n",
    "        if i != j:\n",
    "            distance_matrix[i, j] = np.linalg.norm(centers[i] - centers[j])\n",
    "            if distance_matrix[i,j]<100:\n",
    "                all_values = [item for sublist in groups_of_persons.values() for item in sublist]\n",
    "                if i not in all_values  and j not in all_values:\n",
    "                    counter+=1\n",
    "                    groups_of_persons.update({f\"Group №{counter}\" :[i,  j]})\n",
    "                else:\n",
    "                    groups_of_persons[f\"Group №{counter}\"].extend([i, j])\n",
    "            \n",
    "\n",
    "# Шаг 3: Вывод матрицы расстояний\n",
    "print(\"Матрица расстояний:\")\n",
    "print(distance_matrix)"
   ]
  },
  {
   "cell_type": "code",
   "execution_count": 313,
   "metadata": {},
   "outputs": [
    {
     "name": "stdout",
     "output_type": "stream",
     "text": [
      "[0 2 3 5 6]\n"
     ]
    }
   ],
   "source": [
    "unique_list = []\n",
    "for group in groups_of_persons.keys():  # Исправлено на range(len(groups_of_persons)) для итерации по всем группам\n",
    "    persons_in_group = np.array(groups_of_persons[group])\n",
    "    unique_persons = np.unique(persons_in_group)\n",
    "    unique_list.append(unique_persons)\n",
    "\n",
    "# Вывод уникальных значений для каждой группы\n",
    "print(unique_list[0])\n"
   ]
  },
  {
   "cell_type": "code",
   "execution_count": 328,
   "metadata": {},
   "outputs": [
    {
     "data": {
      "text/plain": [
       "[[146, 154, 255, 297]]"
      ]
     },
     "execution_count": 328,
     "metadata": {},
     "output_type": "execute_result"
    }
   ],
   "source": [
    "list_of_coordinates=[]\n",
    "for group in range(len(unique_list)): \n",
    "    list_of_x=[]\n",
    "    list_of_y=[]\n",
    "    for num in unique_list[group]:\n",
    "        list_of_x.extend([objects[\"person\"][num][0][0], objects[\"person\"][0][0][2]])\n",
    "        list_of_y.extend([objects[\"person\"][num][0][1], objects[\"person\"][0][0][3]])\n",
    "    list_of_coordinates.append([list_of_x,list_of_y])\n",
    "        \n",
    "boundnoxes = []\n",
    "for coordinates in list_of_coordinates:\n",
    "    xmin, xmax = min(coordinates[0]), max(coordinates[0])\n",
    "    ymin, ymax = min(coordinates[1]), max(coordinates[1])\n",
    "    boundnoxes.append([xmin,ymin,xmax,ymax])\n",
    "boundnoxes"
   ]
  },
  {
   "cell_type": "code",
   "execution_count": 300,
   "metadata": {},
   "outputs": [
    {
     "data": {
      "text/plain": [
       "255"
      ]
     },
     "execution_count": 300,
     "metadata": {},
     "output_type": "execute_result"
    }
   ],
   "source": [
    "# Функция для обработки изображения\n",
    "def process_image(image_path):\n",
    "    # Загрузка изображения\n",
    "    image = cv2.imread(image_path)\n",
    "    results = model(image)[0]\n",
    "    \n",
    "    # Получение оригинального изображения и результатов\n",
    "    image = results.orig_img\n",
    "    classes_names = results.names\n",
    "    classes = results.boxes.cls.cpu().numpy()\n",
    "    boxes = results.boxes.xyxy.cpu().numpy().astype(np.int32)\n",
    "\n",
    "    # Подготовка словаря для группировки результатов по классам\n",
    "    grouped_objects = {}\n",
    "\n",
    "    # Рисование рамок и группировка результатов\n",
    "    for class_id, box in zip(classes, boxes):\n",
    "        if class_id==0:    \n",
    "            class_name = classes_names[int(class_id)]\n",
    "            color = colors[int(class_id) % len(colors)]  # Выбор цвета для класса\n",
    "            if class_name not in grouped_objects:\n",
    "                grouped_objects[class_name] = []\n",
    "                \n",
    "            x1, y1, x2, y2 = box\n",
    "            center_x = (x1 + x2) // 2\n",
    "            center_y = (y1 + y2) // 2\n",
    "            grouped_objects[class_name].append((box, (center_x, center_y)))\n",
    "            \n",
    "            cv2.rectangle(image, (x1, y1), (x2, y2), color, 2)\n",
    "            cv2.putText(image, class_name, (x1, y1 - 10), cv2.FONT_HERSHEY_SIMPLEX, 0.5, color, 2)\n",
    "\n",
    "    # Сохранение измененного изображения\n",
    "    new_image_path = os.path.splitext(image_path)[0] + '_yolo' + os.path.splitext(image_path)[1]\n",
    "    cv2.imwrite(new_image_path, image)\n",
    "\n",
    "    # Сохранение данных в текстовый файл\n",
    "    text_file_path = os.path.splitext(image_path)[0] + '_data.txt'\n",
    "    with open(text_file_path, 'w') as f:\n",
    "        for class_name, details in grouped_objects.items():\n",
    "            f.write(f\"{class_name}:\\n\")\n",
    "            for box, center in details:\n",
    "                f.write(f\"Coordinates: ({box[0]}, {box[1]}, {box[2]}, {box[3]}) Center: ({center[0]}, {center[1]})\\n\")\n",
    "\n",
    "    count_of_persons = len([el for el in classes if el == 0])\n",
    "    \n",
    "    print(f\"Count of persons: {count_of_persons}\")\n",
    "    print(f\"Processed {image_path}:\")\n",
    "    print(f\"Saved bounding-box image to {new_image_path}\")\n",
    "    print(f\"Saved data to {text_file_path}\")\n",
    "    return results, grouped_objects"
   ]
  },
  {
   "cell_type": "code",
   "execution_count": null,
   "metadata": {},
   "outputs": [],
   "source": []
  }
 ],
 "metadata": {
  "kernelspec": {
   "display_name": "<Pytorch- GPU>",
   "language": "python",
   "name": "pytorch-cuda"
  },
  "language_info": {
   "codemirror_mode": {
    "name": "ipython",
    "version": 3
   },
   "file_extension": ".py",
   "mimetype": "text/x-python",
   "name": "python",
   "nbconvert_exporter": "python",
   "pygments_lexer": "ipython3",
   "version": "3.12.3"
  }
 },
 "nbformat": 4,
 "nbformat_minor": 2
}
